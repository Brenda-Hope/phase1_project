{
 "cells": [
  {
   "cell_type": "markdown",
   "metadata": {},
   "source": [
    "# Aviation Risk Analysis \n",
    "## Project overview\n",
    "Finding low-risk aircraft models for a business looking to enter the aviation sector is the goal of this project. We looked at patterns, trends, and aircraft safety records by examining aviation accident data from 1962 to 2023. Our objective is to minimize risks and guarantee operational efficiency by offering data-driven insights and recommendations that will\n",
    "\n",
    "### Problem statement\n",
    "The corporation wants to engage in aviation, but in order to identify the safest aircraft types for both private and commercial use, a risk assessment is required.\n",
    "### Objectives\n",
    "* Examine trends in aircraft accidents.\n",
    "* Determine which aircraft models are low risk.\n",
    "* Make data-based investing suggestions.\n",
    "\n",
    "### key attributes\n",
    "* Model of Aircraft: The kind of aircraft that is involved in mishaps.\n",
    "* Accident Severity : Sorting the results of accidents into three categories: minor, major, and fatal.\n",
    "* Fatalities: The quantity of people killed in each incidence.\n",
    "* Aviation safety is impacted by external risk variables, such as location and weather.\n",
    "* Flight Phase: At the time of the accident, the aircraft was either taking off, cruising, or landing.\n",
    "\n",
    "### Data cleaning \n",
    "* data loading\n",
    "* duplicates\n",
    "* mising values\n",
    "* dropping columns and rows\n",
    "* data visualization\n",
    "* saving data \n",
    "### Visualizations\n",
    "from IPython.display import display\n",
    "from PIL import Image\n",
    "\n",
    "image_path = \"Dashboard 1.png\" \n",
    "img = Image.open(\"C:\\Users\\HP\\Documents\\PROJECT\\Dashboard1.png\")\n",
    "display(img)\n",
    "\n",
    "\n",
    " \n",
    "\n",
    "\n",
    "\n",
    "\n",
    "\n",
    "\n",
    "\n",
    "\n",
    "### Reccomendations\n",
    "\n"
   ]
  },
  {
   "cell_type": "code",
   "execution_count": null,
   "metadata": {},
   "outputs": [],
   "source": []
  },
  {
   "cell_type": "code",
   "execution_count": null,
   "metadata": {},
   "outputs": [],
   "source": []
  }
 ],
 "metadata": {
  "kernelspec": {
   "display_name": "Python (learn-env)",
   "language": "python",
   "name": "learn-env"
  },
  "language_info": {
   "codemirror_mode": {
    "name": "ipython",
    "version": 3
   },
   "file_extension": ".py",
   "mimetype": "text/x-python",
   "name": "python",
   "nbconvert_exporter": "python",
   "pygments_lexer": "ipython3",
   "version": "3.8.5"
  }
 },
 "nbformat": 4,
 "nbformat_minor": 4
}
